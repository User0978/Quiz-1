{
 "cells": [
  {
   "cell_type": "code",
   "execution_count": 169,
   "id": "72048372",
   "metadata": {},
   "outputs": [],
   "source": [
    "#import libraries to be used\n",
    "import numpy as np\n",
    "import pandas as pd\n",
    "import matplotlib.pyplot as plt\n",
    "import seaborn as sns"
   ]
  },
  {
   "cell_type": "code",
   "execution_count": 170,
   "id": "971d9cb3",
   "metadata": {},
   "outputs": [],
   "source": [
    "#load the csv files using pandas\n",
    "datasettrain = pd.read_csv(\"data.csv\")\n",
    "datasettest = pd.read_csv(\"test.csv\")\n",
    "datasetoutput = pd.read_csv(\"output.csv\")"
   ]
  },
  {
   "cell_type": "code",
   "execution_count": 171,
   "id": "37972646",
   "metadata": {},
   "outputs": [
    {
     "data": {
      "text/plain": [
       "'print(datasettrain)'"
      ]
     },
     "execution_count": 171,
     "metadata": {},
     "output_type": "execute_result"
    }
   ],
   "source": [
    "#print to check the csv file\n",
    "'''print(datasettrain)'''"
   ]
  },
  {
   "cell_type": "code",
   "execution_count": 172,
   "id": "f0e1cae1",
   "metadata": {},
   "outputs": [
    {
     "data": {
      "text/plain": [
       "'datasettrain.isna().sum()'"
      ]
     },
     "execution_count": 172,
     "metadata": {},
     "output_type": "execute_result"
    }
   ],
   "source": [
    "#used to check if the data has any missing data\n",
    "'''datasettrain.isna().sum()'''"
   ]
  },
  {
   "cell_type": "code",
   "execution_count": 173,
   "id": "37504869",
   "metadata": {},
   "outputs": [],
   "source": [
    "#remove the empty cells of the datafile \n",
    "datasettrain = datasettrain.dropna(axis=1)"
   ]
  },
  {
   "cell_type": "code",
   "execution_count": 174,
   "id": "98e3dca8",
   "metadata": {},
   "outputs": [
    {
     "data": {
      "text/plain": [
       "'datasettrain.isna().sum()'"
      ]
     },
     "execution_count": 174,
     "metadata": {},
     "output_type": "execute_result"
    }
   ],
   "source": [
    "#check if the empty cells have been removed, in this case was the last column\n",
    "'''datasettrain.isna().sum()'''"
   ]
  },
  {
   "cell_type": "code",
   "execution_count": 175,
   "id": "10a753a2",
   "metadata": {},
   "outputs": [
    {
     "data": {
      "text/plain": [
       "'datasettrain.dtypes'"
      ]
     },
     "execution_count": 175,
     "metadata": {},
     "output_type": "execute_result"
    }
   ],
   "source": [
    "#to check which of the data needs to be converted\n",
    "'''datasettrain.dtypes'''"
   ]
  },
  {
   "cell_type": "code",
   "execution_count": 176,
   "id": "86b873f9",
   "metadata": {},
   "outputs": [
    {
     "data": {
      "text/plain": [
       "'from sklearn.preprocessing import LabelEncoder\\ndiagnosis = LabelEncoder()\\ndatasettrain.iloc[:,1] = diagnosis.fit_transform(datasettrain.iloc[:,1].values'"
      ]
     },
     "execution_count": 176,
     "metadata": {},
     "output_type": "execute_result"
    }
   ],
   "source": [
    "#convert the dataset into an array in the diagnosis column to be represented by 1 for M and 0 for B\n",
    "'''from sklearn.preprocessing import LabelEncoder\n",
    "diagnosis = LabelEncoder()\n",
    "datasettrain.iloc[:,1] = diagnosis.fit_transform(datasettrain.iloc[:,1].values'''"
   ]
  },
  {
   "cell_type": "code",
   "execution_count": 177,
   "id": "f617233f",
   "metadata": {},
   "outputs": [],
   "source": [
    "#split the data into independent and dependent variables\n",
    "X_train = datasettrain.iloc[:,2:32].values\n",
    "y_train = datasettrain.iloc[:,1].values\n",
    "X_test = datasettest.iloc[:,0:31].values\n",
    "y_test = datasettest.iloc[:,1].values"
   ]
  },
  {
   "cell_type": "code",
   "execution_count": 178,
   "id": "a464ea4b",
   "metadata": {},
   "outputs": [],
   "source": [
    "#import the DecisionTreeClassifier from sklearn and use the model to predict the output of the test dataset\n",
    "from sklearn.tree import DecisionTreeClassifier\n",
    "from sklearn import metrics\n",
    "\n",
    "dtc = DecisionTreeClassifier()\n",
    "dtc = dtc.fit(X_train,y_train)\n",
    "prediction = dtc.predict(X_test)"
   ]
  },
  {
   "cell_type": "code",
   "execution_count": 179,
   "id": "05dfd0b9",
   "metadata": {},
   "outputs": [
    {
     "name": "stdout",
     "output_type": "stream",
     "text": [
      "['B' 'B' 'B' 'B' 'B' 'M' 'M' 'B' 'B' 'M' 'M' 'B' 'B' 'B' 'M' 'M' 'M' 'M'\n",
      " 'M' 'M']\n"
     ]
    }
   ],
   "source": [
    "print(prediction)"
   ]
  },
  {
   "cell_type": "code",
   "execution_count": 184,
   "id": "1049742f",
   "metadata": {},
   "outputs": [
    {
     "ename": "SyntaxError",
     "evalue": "invalid syntax (2739806914.py, line 1)",
     "output_type": "error",
     "traceback": [
      "\u001b[1;36m  Input \u001b[1;32mIn [184]\u001b[1;36m\u001b[0m\n\u001b[1;33m    datasetoutput = datasetoutput.loc[[:,1], \"diagnosis\"] = prediction\u001b[0m\n\u001b[1;37m                                       ^\u001b[0m\n\u001b[1;31mSyntaxError\u001b[0m\u001b[1;31m:\u001b[0m invalid syntax\n"
     ]
    }
   ],
   "source": [
    "datasetoutput = datasetoutput.loc[[:,1], \"diagnosis\"] = prediction\n",
    "print(datasetoutput)"
   ]
  }
 ],
 "metadata": {
  "kernelspec": {
   "display_name": "Python 3 (ipykernel)",
   "language": "python",
   "name": "python3"
  },
  "language_info": {
   "codemirror_mode": {
    "name": "ipython",
    "version": 3
   },
   "file_extension": ".py",
   "mimetype": "text/x-python",
   "name": "python",
   "nbconvert_exporter": "python",
   "pygments_lexer": "ipython3",
   "version": "3.10.4"
  }
 },
 "nbformat": 4,
 "nbformat_minor": 5
}
